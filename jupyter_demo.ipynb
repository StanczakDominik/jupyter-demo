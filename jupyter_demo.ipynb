{
 "cells": [
  {
   "cell_type": "markdown",
   "metadata": {},
   "source": [
    "# What is Jupyter?"
   ]
  },
  {
   "cell_type": "markdown",
   "metadata": {},
   "source": [
    "It's an amazing tool for interactive and presentable computing and [\"literate programming\"](https://en.wikipedia.org/wiki/Literate_programming)."
   ]
  },
  {
   "cell_type": "markdown",
   "metadata": {},
   "source": [
    "It grew out of IPython (\"IPython notebook\")."
   ]
  },
  {
   "cell_type": "markdown",
   "metadata": {},
   "source": [
    "The name stands for\n",
    "\n",
    "1. __Ju__lia\n",
    "2. __Pyt__hon\n",
    "3. __R__"
   ]
  },
  {
   "cell_type": "markdown",
   "metadata": {},
   "source": [
    "Jupyter comes pre-installed with [anaconda](https://www.anaconda.com/distribution/) - also see [Jupyter install instructions](https://jupyter.org/install)."
   ]
  },
  {
   "cell_type": "markdown",
   "metadata": {},
   "source": [
    "Launch it with `jupyter notebook`. In the class, via anaconda:\n",
    "\n",
    "```bash\n",
    "source /work/anaconda3/bin/activate\n",
    "jupyter notebook\n",
    "```\n",
    "\n",
    "On Windows, just type \"Jupyter\" into the search."
   ]
  },
  {
   "cell_type": "markdown",
   "metadata": {},
   "source": [
    "# The Notebook"
   ]
  },
  {
   "cell_type": "code",
   "execution_count": null,
   "metadata": {},
   "outputs": [],
   "source": [
    "import numpy\n",
    "x = numpy.linspace(0, 6.28, 10)\n",
    "x"
   ]
  },
  {
   "cell_type": "code",
   "execution_count": null,
   "metadata": {},
   "outputs": [],
   "source": [
    "y = numpy.sin(x)\n",
    "y"
   ]
  },
  {
   "cell_type": "code",
   "execution_count": null,
   "metadata": {},
   "outputs": [],
   "source": [
    "x = numpy.linspace(0, 6.28, 3)\n",
    "x"
   ]
  },
  {
   "cell_type": "markdown",
   "metadata": {},
   "source": [
    "Green bar on the left means we're in **edit** mode.\n",
    "\n",
    "Blue bar means we're in **command** mode."
   ]
  },
  {
   "cell_type": "markdown",
   "metadata": {},
   "source": [
    "### Embeddable *Markdown* cells\n",
    "Hotkey is \"m\" in command mode!\n",
    "\n",
    "With $\\LaTeX$ support!\n",
    "\n",
    "\\begin{align}\n",
    "\\frac{\\partial f_e}{\\partial t} + \\mathbf {v}_e\\cdot\\nabla f_e &- e\\left(\\mathbf {E}+\\frac{\\mathbf {v_e}}{c}\\times\\mathbf {B}\\right)\\cdot\\frac{\\partial f_e}{\\partial\\mathbf {p}} = 0 \\\\\n",
    "\\frac{\\partial f_i}{\\partial t} + \\mathbf {v}_i\\cdot\\nabla f_i &+ Z_i e\\left(\\mathbf {E}+\\frac{\\mathbf {v_i}}{c}\\times\\mathbf {B}\\right)\\cdot\\frac{\\partial f_i}{\\partial\\mathbf {p}} = 0 \\\\\n",
    "\\nabla\\times\\mathbf {B} &=\\frac{4\\pi\\mathbf {j}}{c}+\\frac{1}{c}\\frac{\\partial\\mathbf {E}}{\\partial t} \\\\\n",
    "\\nabla\\times\\mathbf {E} &=-\\frac{1}{c}\\frac{\\partial\\mathbf {B}}{\\partial t} \\\\\n",
    "\\nabla\\cdot\\mathbf {E}  &=4\\pi\\rho \\\\\n",
    "\\nabla\\cdot\\mathbf {B}  &=0 \\\\\n",
    "\\end{align}\n",
    "\n",
    "$$\\rho=e\\int(Z_i f_i-f_e)d^3p,\\quad \\mathbf {j}=e\\int(Z_i f_i \\mathbf{v}_i -f_e \\mathbf{v}_e)d^3p,\\quad \\mathbf {v}_\\alpha = \\frac{\\frac{\\mathbf {p}}{m_\\alpha}}{\\left (1+\\frac{p^2}{(m_\\alpha c)^2}\\right )^{1/2}}$$\n"
   ]
  },
  {
   "cell_type": "markdown",
   "metadata": {},
   "source": [
    "### Autocomplete with Tab!"
   ]
  },
  {
   "cell_type": "code",
   "execution_count": null,
   "metadata": {},
   "outputs": [],
   "source": [
    "numpy.lin"
   ]
  },
  {
   "cell_type": "markdown",
   "metadata": {},
   "source": [
    "### Shift+Tab docs!"
   ]
  },
  {
   "cell_type": "code",
   "execution_count": null,
   "metadata": {},
   "outputs": [],
   "source": [
    "numpy.einsum"
   ]
  },
  {
   "cell_type": "code",
   "execution_count": null,
   "metadata": {},
   "outputs": [],
   "source": [
    "numpy.einsum?"
   ]
  },
  {
   "cell_type": "markdown",
   "metadata": {},
   "source": [
    "## Put graphical results directly alongside code!"
   ]
  },
  {
   "cell_type": "code",
   "execution_count": null,
   "metadata": {},
   "outputs": [],
   "source": [
    "import matplotlib.pyplot as plt\n",
    "plt.plot(x, y);"
   ]
  },
  {
   "cell_type": "markdown",
   "metadata": {},
   "source": [
    "# Embeddable animations"
   ]
  },
  {
   "cell_type": "code",
   "execution_count": null,
   "metadata": {},
   "outputs": [],
   "source": [
    "%load jupyter_animation.py"
   ]
  },
  {
   "cell_type": "markdown",
   "metadata": {},
   "source": [
    "# Magic commands\n",
    "Special IPython/Jupyter syntax that's not quite Python but works in notebooks\n",
    "\n",
    "## %debug"
   ]
  },
  {
   "cell_type": "code",
   "execution_count": null,
   "metadata": {},
   "outputs": [],
   "source": [
    "def division(z):\n",
    "    return 1/z"
   ]
  },
  {
   "cell_type": "code",
   "execution_count": null,
   "metadata": {},
   "outputs": [],
   "source": [
    "division(0)"
   ]
  },
  {
   "cell_type": "code",
   "execution_count": null,
   "metadata": {},
   "outputs": [],
   "source": [
    "%debug"
   ]
  },
  {
   "cell_type": "markdown",
   "metadata": {},
   "source": [
    "## %timeit"
   ]
  },
  {
   "cell_type": "code",
   "execution_count": null,
   "metadata": {},
   "outputs": [],
   "source": [
    "%timeit np.log(np.random.random())"
   ]
  },
  {
   "cell_type": "markdown",
   "metadata": {},
   "source": [
    "## %%timeit\n",
    "For code blocks"
   ]
  },
  {
   "cell_type": "code",
   "execution_count": null,
   "metadata": {},
   "outputs": [],
   "source": [
    "%%timeit\n",
    "random = np.random.random()\n",
    "np.log(random)"
   ]
  },
  {
   "cell_type": "markdown",
   "metadata": {},
   "source": [
    "### Link to presentation:\n",
    "\n",
    "# https://github.com/StanczakDominik/jupyter-demo"
   ]
  }
 ],
 "metadata": {
  "kernelspec": {
   "display_name": "Python [conda env:root] *",
   "language": "python",
   "name": "conda-root-py"
  },
  "language_info": {
   "codemirror_mode": {
    "name": "ipython",
    "version": 3
   },
   "file_extension": ".py",
   "mimetype": "text/x-python",
   "name": "python",
   "nbconvert_exporter": "python",
   "pygments_lexer": "ipython3",
   "version": "3.7.1"
  }
 },
 "nbformat": 4,
 "nbformat_minor": 2
}
